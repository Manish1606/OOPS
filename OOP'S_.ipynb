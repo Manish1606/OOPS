{
  "nbformat": 4,
  "nbformat_minor": 0,
  "metadata": {
    "colab": {
      "provenance": []
    },
    "kernelspec": {
      "name": "python3",
      "display_name": "Python 3"
    },
    "language_info": {
      "name": "python"
    }
  },
  "cells": [
    {
      "cell_type": "markdown",
      "source": [
        "OOP'S"
      ],
      "metadata": {
        "id": "VNAD9N9_EG-x"
      }
    },
    {
      "cell_type": "markdown",
      "source": [
        "Q1. What is Object-Oriented Programming (OOP)?\n",
        "==> OOP is a computer programming model that organizes software\n",
        "   around objects, rather than logic and functions.\n",
        "\n",
        "Q2. What is a class in OOP?\n",
        "==> Class in OOP is a blueprint for creating objects (a  \n",
        "   particular data structure), providing initial values for state (member variables or attributes), and implementations of behavior (member functions or methods).\n",
        "\n",
        "Q3. What is an object in OOP?\n",
        "==> An object is a component of a program that knows how to\n",
        "   perform certain actions and how to interact with other elements of the program. Objects are the basic units of object-oriented programming. A simple example of an object would be a person. Logically, you would expect a person to have a name.\n",
        "\n",
        "Q4. What is the difference between abstraction and encapsulation?\n",
        "==> Abstraction and encapsulation are both key principles of      Object-Oriented Programming (OOP) that help simplify complex systems and improve code quality.\n",
        "Abstraction:-\n",
        "            Focuses on the essential features of an object or system, while hiding implementation details. This provides a high-level view that simplifies complexity and improves code readability.\n",
        "Encapsulation:-\n",
        "             Bundles data and methods within a class, and controls access to them. This ensures data integrity and privacy, and prevents unauthorized access and modification.\n",
        "\n",
        "Q5. What are dunder methods in Python?\n",
        "==> Dunder methods, also known as magic methods or special\n",
        "   methods, are predefined methods in Python that add special functionality to classes and objects.\n",
        "\n",
        "Q6. Explain the concept of inheritance in OOP.\n",
        "==> Concept of Inheritance is a fundamental concept in            object-oriented programming (OOP) that allows new classes to\n",
        " inherit features and attributes from existing classes. This mechanism creates a hierarchy of classes that share similar properties, methods, and features.\n",
        "\n",
        "Q7. What is polymorphism in OOP.\n",
        "==> Polymorphism is a concept in object-oriented programming  \n",
        "   (OOP) that allows objects of different types to be treated as objects of a common superclass.\n",
        "\n",
        "Q8. How is encapsulation achieved in Python?\n",
        "==> In Python, encapsulation is achieved by using access  \n",
        "   modifiers to limit access to a class's variables and methods:\n",
        "   Public:-\n",
        "         Attributes and methods are public by default, meaning they can be accessed from outside the class.\n",
        "Private:-\n",
        "        Use a double underscore prefix (__) to make an attribute private. Private members are only accessible within the class and are intended for internal use.\n",
        "Protected:-\n",
        "        Use a single underscore prefix (_) to indicate that an attribute is meant for internal use within the class and its subclass. Protected members are not as strictly enforced as private members.\n",
        "\n",
        "Q9. What is a constructor in Python?\n",
        "==> Constructors in Python is a special class method for creating\n",
        "   and initializing an object instance at that class. Every Python class has a constructor; it's not required to be defined explicitly. The purpose of the constructor is to construct an object and assign a value to the object's members.\n",
        "\n",
        "Q10. What are class and static methods in Python?\n",
        "==> A class method receives the class as an implicit first\n",
        "   argument, just like an instance method receives the instance.\n",
        "   A static method does not receive an implicit first argument. A static method is also a method that is bound to the class and not the object of the class. This method can’t access or modify the class state. It is present in a class because it makes sense for the method to be present in class.\n",
        "\n",
        "Q11. What is method overloading in Python?\n",
        "==> Two or more methods have the same name but different numbers\n",
        "   of parameters or different types of parameters, or both. These methods are called overloaded methods and this is called method overloading.\n",
        "\n",
        "Q12. What is method overriding in OOP?\n",
        "==> Method overriding is a feature in object-oriented programming (OOP) that allows a subclass to replace a method in its  \n",
        "   superclass with its own implementation. The subclass method must have the same name, parameters, signature, and return type as the superclass method.\n",
        "\n",
        "Q13. What is a property decorator in Python?\n",
        "==> A property decorator is used to define the property name in\n",
        "   the class Portal, that has three methods(getter, setter, and deleter) with similar names i.e, name(), but they have different number of parameters.\n",
        "\n",
        "Q14. Why is polymorphism important in OOP?\n",
        "==> Polymorphism is a feature of object-oriented programming\n",
        "   languages that allows a specific routine to use variables of different types at different times. Polymorphism in programming gives a program the ability to redefine methods for derived classes.\n",
        "\n",
        "Q15. What is an abstract class in Python?\n",
        "==> In Python, an abstract class is a class that cannot be        instantiated on its own and is designed to be a blueprint for\n",
        "  other classes. Abstract classes allow us to define methods that must be implemented by subclasses, ensuring a consistent interface while still allowing the subclasses to provide specific implementations.\n",
        "\n",
        "Q16. What are the advantages of OOP?\n",
        "==> Provides flexibility by allowing method overriding for custom\n",
        "   behavior in subclasses. Simplifies code by using a single interface to represent multiple data types. Encourages extensibility by allowing new classes to fit seamlessly into existing systems.\n",
        "\n",
        "Q17. What is the difference between a class variable and an instance variable?\n",
        "==> The main difference between a class variable and an instance\n",
        "   variable is that class variables are shared among all instances of a class, while instance variables are unique to each instance:\n",
        "   Class variables:-\n",
        "                 Also called static variables, class variables are defined within a class and shared by all instances of that class. They can be accessed using the class name or an instance of the class. Class variables are useful for sharing data between all instances of a class, such as keeping track of the number of instances created or storing a constant value.\n",
        "Instance variables:-\n",
        "                 Instance variables are owned by one specific instance of the class and are not shared between instances. They are accessed within a class through the use of the self keyword, which represents the instance of the class. Instance variables are useful for storing data that is specific to each instance, such as the name or age of a person.\n",
        "\n",
        "Q18. What is multiple inheritance in Python?\n",
        "==> In Python. multiple inheritance is a class is derived from    more than one base class it is called multiple Inheritance. The\n",
        " derived class inherits all the features of the base case.\n",
        "\n",
        "Q19. Explain the purpose of ‘’__str__’ and ‘__repr__’ ‘ methods  \n",
        "   in Python.\n",
        "==> In Python, the __str__() and __repr__() methods are used to\n",
        "   return string representations of objects:\n",
        "str():-\n",
        "       Returns a human-readable string representation of an object. It's used for informal string representations, such as printing objects for user consumption. The __str__() method is called by the built-in print(), str(), and format() functions.\n",
        "repr():-\n",
        "       Returns a more information-rich, or official, string representation of an object. It's used for formal string representations, including debugging, logging, and object inspection. The __repr__() method is called by the built-in repr() function.\n",
        "\n",
        "Q20. What is the significance of the ‘super()’ function in Python?\n",
        "==> The super() function is used to give access to methods and\n",
        "   properties of a parent or sibling class. The super() function returns an object that represents the parent class.\n",
        "\n",
        "Q21. What is the significance of the __del__ method in Python?\n",
        "==> In Python \"__del__\" is a finalizer. It is called when an\n",
        "   object is garbage collected which happens at some point after all references to the object have been deleted. In a simple case this could be right after you say del x or, if x is a local variable, after the function ends.\n",
        "\n",
        "Q22. What is the difference between @staticmethod and  \n",
        "   @classmethod in Python?\n",
        "==> The main difference between @classmethod and @staticmethod in\n",
        "   Python is that @classmethod methods can access and modify the class state, while @staticmethod methods cannot:\n",
        "* A class method takes cls as the first parameter while a static\n",
        " method needs no specific parameters.\n",
        "* A class method can access or modify the class state while a     static method can’t access or modify it.\n",
        "* In general, static methods know nothing about the class state.\n",
        " They are utility-type methods that take some parameters and work upon those parameters. On the other hand class methods must have class as a parameter.\n",
        "\n",
        "Q23. How does polymorphism work in Python with inheritance?\n",
        "==> Polymorphism and inheritance in Python work together in the\n",
        "  following ways:\n",
        "* Inheritance:-\n",
        "             Child classes inherit methods and attributes from their parent class.\n",
        "* Polymorphism:-\n",
        "             A child class method can have the same name as a method in the parent class.\n",
        "* Method overriding:-\n",
        "             A child class can re-implement a method that it inherited from its parent class. This is useful when the inherited method doesn't fit the child class.\n",
        "\n",
        "Q24. What is method chaining in Python OOP?\n",
        "==> Method chaining refers to calling multiple methods\n",
        "   sequentially on the same object in a single expression. Each method call returns an object, often the same object (modified or not), allowing the subsequent method to operate on that object.\n",
        "\n",
        "Q25. What is the purpose of the __call__ method in Python?\n",
        "==> The purpose of the __call__ method in Python is build-in\n",
        "   methods also called dunder or magic methods because have two prefixes and suffix underscores in the method name. The main idea of __call__ method is to write a class and invoke it like a function. You can refer to it as callable object."
      ],
      "metadata": {
        "id": "3u82PcoHEVRx"
      }
    },
    {
      "cell_type": "code",
      "source": [
        "#1. Create a parent class Animal with a method speak() that prints a generic message. Create a child class Dog that overrides the speak() method to print \"Bark!\".\n",
        "\n",
        "class Animal:\n",
        "    def speak(self):\n",
        "        print(\"Generic animal sound\")\n",
        "\n",
        "class Dog(Animal):\n",
        "    def speak(self):\n",
        "        print(\"Woof! I'm a dog.\")\n",
        "\n",
        "# Creating objects of the classes\n",
        "generic_animal = Animal()\n",
        "dog_obj = Dog()\n",
        "\n",
        "# Using overridden methods\n",
        "generic_animal.speak()\n",
        "dog_obj.speak()\n"
      ],
      "metadata": {
        "colab": {
          "base_uri": "https://localhost:8080/"
        },
        "id": "OTlFx7reT7nO",
        "outputId": "bfacc601-8877-4dfe-9f2a-871448774b1b"
      },
      "execution_count": 2,
      "outputs": [
        {
          "output_type": "stream",
          "name": "stdout",
          "text": [
            "Generic animal sound\n",
            "Woof! I'm a dog.\n"
          ]
        }
      ]
    },
    {
      "cell_type": "code",
      "source": [
        "#2. Write a program to create an abstract class Shape with a method area(). Derive classes Circle and Rectangle from it and implement the area() method in both.\n",
        "\n",
        "class Shape:\n",
        "    def area(self):\n",
        "      pass\n",
        "\n",
        "class Circle(Shape):\n",
        "  def area(self, radius):\n",
        "    return 3.14 * radius * radius\n",
        "\n",
        "class Rectangle(Shape):\n",
        "  def area(self, Length, width):\n",
        "    return Length * width\n",
        ""
      ],
      "metadata": {
        "id": "8mksYRYKWmSE"
      },
      "execution_count": 17,
      "outputs": []
    },
    {
      "cell_type": "code",
      "source": [
        "#3.Implement a multi-level inheritance scenario where a class Vehicle has an attribute type. Derive a class Car and further derive a class ElectricCar that adds a battery attribute.\n",
        "\n",
        "class Vehicle:\n",
        "  def init(self, Vehicle_type):\n",
        "    self.Vehicle_type = Vehicle_type\n",
        "\n",
        "class car(Vehicle):\n",
        "  def init(self, car_type):\n",
        "    super()._init_(car_type)\n",
        "    self.car_type = car_type\n",
        "\n",
        "class ElectricCar(car):\n",
        "   def init(self, battery_capacity):\n",
        "    super()._init_(car_type)\n",
        "    self.battery_capacity = battery_capacity\n",
        "\n",
        "\n",
        ""
      ],
      "metadata": {
        "id": "uX41l88PbOAV"
      },
      "execution_count": 15,
      "outputs": []
    },
    {
      "cell_type": "code",
      "source": [
        "#4.Implement a multi-level inheritance scenario where a class Vehicle has an attribute type. Derive a class Car and further derive a class ElectricCar that adds a battery attribute.\n",
        "\n",
        "\n",
        "class Vehicle:\n",
        "  def init(self, Vehicle_type):\n",
        "    self.Vehicle_type = Vehicle_type\n",
        "\n",
        "class car(Vehicle):\n",
        "  def init(self, car_type):\n",
        "    super()._init_(car_type)\n",
        "    self.car_type = car_type\n",
        "\n",
        "class ElectricCar(car):\n",
        "   def init(self, battery_capacity):\n",
        "    super()._init_(car_type)\n",
        "    self.battery_capacity = battery_capacity\n",
        "\n",
        "\n"
      ],
      "metadata": {
        "id": "-jCVs10I7uqi"
      },
      "execution_count": 16,
      "outputs": []
    },
    {
      "cell_type": "code",
      "source": [
        "#5.Write a program to demonstrate encapsulation by creating a class BankAccount with private attributes balance and methods to deposit, withdraw, and check balance.\n",
        "\n",
        "class BankAccount:\n",
        "    def __init__(self, account_holder, initial_balance=0):\n",
        "        self._account_holder = account_holder\n",
        "        self._balance = initial_balance\n",
        "\n",
        "    def deposit(self, amount):\n",
        "        \"\"\"Deposit funds into the account.\"\"\"\n",
        "        if amount > 0:\n",
        "            self._balance += amount\n",
        "            print(f\"Deposit of ${amount} successful. New balance: ${self._balance}\")\n",
        "        else:\n",
        "            print(\"Invalid deposit amount. Please deposit a positive amount.\")\n",
        "\n",
        "    def withdraw(self, amount):\n",
        "        \"\"\"Withdraw funds from the account.\"\"\"\n",
        "        if 0 < amount <= self._balance:\n",
        "            self._balance -= amount\n",
        "            print(f\"Withdrawal of ${amount} successful. New balance: ${self._balance}\")\n",
        "        elif amount > self._balance:\n",
        "            print(\"Insufficient funds. Withdrawal unsuccessful.\")\n",
        "        else:\n",
        "            print(\"Invalid withdrawal amount. Please withdraw a positive amount.\")\n",
        "\n",
        "    def get_balance(self):\n",
        "              \"\"\"Get the current balance of the account.\"\"\"\n",
        "              return self._balance\n",
        "\n",
        "    def get_account_holder(self):\n",
        "        \"\"\"Get the account holder's name.\"\"\"\n",
        "        return self._account_holder\n",
        "\n",
        "# Example usage\n",
        "account = BankAccount(account_holder=\"John Doe\", initial_balance=1000)\n",
        "\n",
        "print(f\"Account holder: {account.get_account_holder()}\")\n",
        "print(f\"Initial balance: ${account.get_balance()}\")\n",
        "\n",
        "account.deposit(500)\n",
        "account.withdraw(200)\n",
        "account.withdraw(900)  # Attempting to withdraw more than the balance\n",
        "account.deposit(-100)  # Attempting to deposit a negative amount\n",
        "\n",
        "print(f\"Final balance: ${account.get_balance()}\")\n"
      ],
      "metadata": {
        "colab": {
          "base_uri": "https://localhost:8080/"
        },
        "id": "5e1n0gbO94ws",
        "outputId": "b215b5d7-2a76-4eac-e0e5-3a5426fe0f31"
      },
      "execution_count": 6,
      "outputs": [
        {
          "output_type": "stream",
          "name": "stdout",
          "text": [
            "Account holder: John Doe\n",
            "Initial balance: $1000\n",
            "Deposit of $500 successful. New balance: $1500\n",
            "Withdrawal of $200 successful. New balance: $1300\n",
            "Withdrawal of $900 successful. New balance: $400\n",
            "Invalid deposit amount. Please deposit a positive amount.\n",
            "Final balance: $400\n"
          ]
        }
      ]
    },
    {
      "cell_type": "code",
      "source": [
        "#6. Demonstrate runtime polymorphism using a method play() in a base class Instrument. Derive classes Guitar and Piano that implement their own version of play().\n",
        "\n",
        "class Instrument:\n",
        "    def play(self):\n",
        "      pass\n",
        "\n",
        "class Guitar(Instrument):\n",
        "  def play(self):\n",
        "    print(\"playing a guitar sound.\")\n",
        "\n",
        "class piano(Instrument):\n",
        "  def play(self):\n",
        "    print(\"playing a piano sound.\")\n",
        "\n",
        "guitar = Guitar()\n",
        "piano = piano()\n",
        "\n",
        "guitar.play()\n",
        "piano.play()\n",
        "\n",
        "\n"
      ],
      "metadata": {
        "colab": {
          "base_uri": "https://localhost:8080/"
        },
        "id": "XHDTMhQQAfp7",
        "outputId": "3e714288-fe31-4e21-a440-25063f9d0b81"
      },
      "execution_count": 7,
      "outputs": [
        {
          "output_type": "stream",
          "name": "stdout",
          "text": [
            "playing a guitar sound.\n",
            "playing a piano sound.\n"
          ]
        }
      ]
    },
    {
      "cell_type": "code",
      "source": [
        "#7.Create a class MathOperations with a class method add_numbers() to add two numbers and a static method subtract_numbers() to subtract two numbers.\n",
        "\n",
        "class MathOperations:\n",
        "    @classmethod\n",
        "    def add_numbers(cls, a, b):\n",
        "      return a + b\n",
        "\n",
        "    @staticmethod\n",
        "    def subtract_numbers(a , b):\n",
        "       return a - b\n"
      ],
      "metadata": {
        "id": "FKlqQlCBCUWg"
      },
      "execution_count": 9,
      "outputs": []
    },
    {
      "cell_type": "code",
      "source": [
        "#8.Implement a class Person with a class method to count the total number of persons created.\n",
        "\n",
        "class person:\n",
        "  count = 0\n",
        "  def init(self):\n",
        "    person.count += 1\n",
        "\n",
        "    @classmethod\n",
        "    def get_count(cls):\n",
        "      return person.count\n"
      ],
      "metadata": {
        "id": "NEUsbbLVFKW8"
      },
      "execution_count": 21,
      "outputs": []
    },
    {
      "cell_type": "code",
      "source": [
        "#9.Write a class Fraction with attributes numerator and denominator. Override the str method to display the fraction as \"numerator/denominator\".\n",
        "\n",
        "class Fraction:\n",
        "  def init(self, numerator, denominator):\n",
        "    self.numerator = numerator\n",
        "    self. denominator = denominator\n",
        "\n",
        "    def str(self):\n",
        "      return f\"{self.numerator}/{self.denominator}\"\n"
      ],
      "metadata": {
        "id": "riOfNKQwL3tB"
      },
      "execution_count": 23,
      "outputs": []
    },
    {
      "cell_type": "code",
      "source": [
        "#10.Demonstrate operator overloading by creating a class Vector and overriding the add method to add two vectors.\n",
        "\n",
        "def __add__(self, other):\n",
        "  if isinstance(other, Vector):\n",
        "      return Vector(self.x + other.x, self.y + other.y)\n",
        "  else:\n",
        "      raise TypeError(\"Unsupported operand type\")\n"
      ],
      "metadata": {
        "id": "QeoBF3crM2pq"
      },
      "execution_count": 27,
      "outputs": []
    },
    {
      "cell_type": "code",
      "source": [
        "#11.Create a class Person with attributes name and age. Add a method greet() that prints \"Hello, my name is {name} and I am {age} years old.\"\n",
        "\n",
        "class person:\n",
        "  def init(self, name, age):\n",
        "    self.name = name\n",
        "    self.age = age\n",
        "  def greet(self):\n",
        "    print(f\"Hello, my name is {self.name} and I am {self.age} years old.\")\n",
        ""
      ],
      "metadata": {
        "id": "qZkarafWNkTi"
      },
      "execution_count": 28,
      "outputs": []
    },
    {
      "cell_type": "code",
      "source": [
        "#12. Implement a class Student with attributes name and grades. Create a method average_grade() to compute the average of the grades.\n",
        "\n",
        "class Student:\n",
        "  def init(self, name, grades):\n",
        "    self.name = name\n",
        "    self.grades = grades\n",
        "    def average_grade(self):\n",
        "      return sum(self.grades)/Len(self.grades)\n",
        "\n"
      ],
      "metadata": {
        "id": "pfN8q1zbOX4A"
      },
      "execution_count": 29,
      "outputs": []
    },
    {
      "cell_type": "code",
      "source": [
        "#13.Create a class Rectangle with methods set_dimensions() to set the dimensions and area() to calculate the area.\n",
        "\n",
        "class Rectangle():\n",
        "    def __init__(self, l, w):\n",
        "        self.length = l\n",
        "        self.width  = w\n",
        "\n",
        "    def rectangle_area(self):\n",
        "        return self.length*self.width\n",
        "\n",
        "newRectangle = Rectangle(12, 10)\n",
        "print(newRectangle.rectangle_area())\n"
      ],
      "metadata": {
        "colab": {
          "base_uri": "https://localhost:8080/"
        },
        "id": "jHTE6YkAPK9x",
        "outputId": "626acb1e-4744-4105-b0af-8c668fa8e09b"
      },
      "execution_count": 30,
      "outputs": [
        {
          "output_type": "stream",
          "name": "stdout",
          "text": [
            "120\n"
          ]
        }
      ]
    },
    {
      "cell_type": "code",
      "source": [
        "#14. Create a class Employee with a method calculate_salary() that computes the salary based on hours worked and hourly rate. Create a derived class Manager that adds a bonus to the salary.\n",
        "\n",
        "class Employee:\n",
        "    def __init__(self, name, emp_id, salary, department):\n",
        "        self.name = name\n",
        "        self.id = emp_id\n",
        "        self.salary = salary\n",
        "        self.department = department\n",
        "\n",
        "    def calculate_salary(self, salary, hours_worked):\n",
        "        overtime = 0\n",
        "        if hours_worked > 50:\n",
        "            overtime = hours_worked - 50\n",
        "        self.salary = self.salary + (overtime * (self.salary / 50))\n",
        "\n",
        "    def assign_department(self, emp_department):\n",
        "        self.department = emp_department\n",
        "\n",
        "    def print_employee_details(self):\n",
        "        print(\"\\nName: \", self.name)\n",
        "        print(\"ID: \", self.id)\n",
        "        print(\"Salary: \", self.salary)\n",
        "        print(\"Department: \", self.department)\n",
        "        print(\"----------------------\")\n",
        "\n",
        "\n",
        "employee1 = Employee(\"ADAMS\", \"E7876\", 50000, \"ACCOUNTING\")\n",
        "employee2 = Employee(\"JONES\", \"E7499\", 45000, \"RESEARCH\")\n",
        "employee3 = Employee(\"MARTIN\", \"E7900\", 50000, \"SALES\")\n",
        "employee4 = Employee(\"SMITH\", \"E7698\", 55000, \"OPERATIONS\")\n",
        "\n",
        "print(\"Original Employee Details:\")\n",
        "employee1.print_employee_details()\n",
        "employee2.print_employee_details()\n",
        "employee3.print_employee_details()\n",
        "employee4.print_employee_details()\n",
        "\n",
        "# Change the departments of employee1 and employee4\n",
        "employee1.assign_department(\"OPERATIONS\")\n",
        "employee4.assign_department(\"SALES\")\n",
        "\n",
        "# Now calculate the overtime of the employees who are eligible:\n",
        "employee2.calculate_salary(45000, 52)\n",
        "employee4.calculate_salary(45000, 60)\n",
        "\n",
        "print(\"Updated Employee Details:\")\n",
        "employee1.print_employee_details()\n",
        "employee2.print_employee_details()\n",
        "employee3.print_employee_details()\n",
        "employee4.print_employee_details()\n"
      ],
      "metadata": {
        "colab": {
          "base_uri": "https://localhost:8080/"
        },
        "id": "UtssyenkPs0n",
        "outputId": "55270959-a5ef-494e-ed61-824b83bd0a96"
      },
      "execution_count": 31,
      "outputs": [
        {
          "output_type": "stream",
          "name": "stdout",
          "text": [
            "Original Employee Details:\n",
            "\n",
            "Name:  ADAMS\n",
            "ID:  E7876\n",
            "Salary:  50000\n",
            "Department:  ACCOUNTING\n",
            "----------------------\n",
            "\n",
            "Name:  JONES\n",
            "ID:  E7499\n",
            "Salary:  45000\n",
            "Department:  RESEARCH\n",
            "----------------------\n",
            "\n",
            "Name:  MARTIN\n",
            "ID:  E7900\n",
            "Salary:  50000\n",
            "Department:  SALES\n",
            "----------------------\n",
            "\n",
            "Name:  SMITH\n",
            "ID:  E7698\n",
            "Salary:  55000\n",
            "Department:  OPERATIONS\n",
            "----------------------\n",
            "Updated Employee Details:\n",
            "\n",
            "Name:  ADAMS\n",
            "ID:  E7876\n",
            "Salary:  50000\n",
            "Department:  OPERATIONS\n",
            "----------------------\n",
            "\n",
            "Name:  JONES\n",
            "ID:  E7499\n",
            "Salary:  46800.0\n",
            "Department:  RESEARCH\n",
            "----------------------\n",
            "\n",
            "Name:  MARTIN\n",
            "ID:  E7900\n",
            "Salary:  50000\n",
            "Department:  SALES\n",
            "----------------------\n",
            "\n",
            "Name:  SMITH\n",
            "ID:  E7698\n",
            "Salary:  66000.0\n",
            "Department:  SALES\n",
            "----------------------\n"
          ]
        }
      ]
    },
    {
      "cell_type": "code",
      "source": [
        "#15.Create a class Product with attributes name, price, and quantity. Implement a method total_price() that calculates the total price of the product.\n",
        "\n",
        "class Product:\n",
        "\n",
        "  def init(self,name,price, quantity):\n",
        "    self.name = NameError\n",
        "    self.price = price\n",
        "    self.quantity = quantity\n",
        "\n",
        "    def total_price(self):\n",
        "      return self.price * self.quantity\n",
        "    self.price=price\n",
        "\n",
        "  def get_price(self):\n",
        "      if self.amount<10:\n",
        "        return self.amount*self.price\n",
        "      elif 10<=self.amount<99:\n",
        "        return 0.9*self.amount*self.price\n",
        "      else:\n",
        "        return 0.8*self.amount*self.price\n",
        "\n",
        "  def make_purchase(self):\n",
        "    return int(input('Number of elements to buy'))-self.amount\n",
        "print('Final costs = ',costs.get_price())\n",
        "print('Elements to buy=',purchases.make_purchase())"
      ],
      "metadata": {
        "colab": {
          "base_uri": "https://localhost:8080/"
        },
        "id": "RVqja6jmQCax",
        "outputId": "5a610819-e106-45c2-9c7e-c6c2af359ff9"
      },
      "execution_count": 41,
      "outputs": [
        {
          "output_type": "stream",
          "name": "stdout",
          "text": [
            "Final costs =  29260\n",
            "Number of elements to buy5\n",
            "Elements to buy= -4\n"
          ]
        }
      ]
    },
    {
      "cell_type": "code",
      "source": [
        "#16.Create a class Animal with an abstract method sound(). Create two derived classes Cow and Sheep that implement the sound() method.\n",
        "\n",
        "from abc import ABC, abstractmethod\n",
        "\n",
        "# Define an abstract class\n",
        "class Animal(ABC):\n",
        "\n",
        "    @abstractmethod\n",
        "    def sound(self):\n",
        "        pass  # This is an abstract method, no implementation here.\n",
        "\n",
        "# Create an instance of Dog\n",
        "dog = Dog()\n",
        "print(dog.sound())  # Output: Bark"
      ],
      "metadata": {
        "colab": {
          "base_uri": "https://localhost:8080/"
        },
        "id": "Ft11BPnDSSka",
        "outputId": "d17d899b-53ca-44fd-dd7a-5bf97a990cc7"
      },
      "execution_count": 44,
      "outputs": [
        {
          "output_type": "stream",
          "name": "stdout",
          "text": [
            "Bark\n"
          ]
        }
      ]
    },
    {
      "cell_type": "code",
      "source": [
        "#17. Create a class Book with attributes title, author, and year_published. Add a method get_book_info() that returns a formatted string with the book's details.\n",
        "\n",
        "class Book:\n",
        "    def __init__(self, author, title, year):\n",
        "        self.author = author\n",
        "        self.title = title\n",
        "        self.year =  year\n",
        "\n",
        "    def __str__(self):\n",
        "        return f'{self.author} {self.title} {self.year}'\n",
        "\n",
        "book_one = Book('John Green', 'PaperTowns','2001')\n",
        "print(book_one)\n"
      ],
      "metadata": {
        "colab": {
          "base_uri": "https://localhost:8080/"
        },
        "id": "InsXlxUeS83-",
        "outputId": "27bcee9a-4edd-4059-e17e-8984221e6f0b"
      },
      "execution_count": 64,
      "outputs": [
        {
          "output_type": "stream",
          "name": "stdout",
          "text": [
            "John Green PaperTowns 2001\n"
          ]
        }
      ]
    },
    {
      "cell_type": "code",
      "source": [
        "#18.Create a class House with attributes address and price. Create a derived class Mansion that adds an attribute number_of_rooms.\n",
        "\n",
        "class House:\n",
        "   def  init(self, address, price):\n",
        "     self.address = address\n",
        "     self.price = price\n",
        "\n",
        "class Mansion(House):\n",
        "  def init(self, address, price, number_of_rooms):\n",
        "    super()._init_(address, price)\n",
        "    self.number_of_rooms = number_of_rooms\n"
      ],
      "metadata": {
        "id": "YzIe_qw2WWMu"
      },
      "execution_count": 66,
      "outputs": []
    }
  ]
}